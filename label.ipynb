{
 "cells": [
  {
   "cell_type": "code",
   "execution_count": 18,
   "id": "mighty-round",
   "metadata": {
    "tags": []
   },
   "outputs": [],
   "source": [
    "import cv2\n",
    "from os import listdir\n",
    "from os.path import isfile, join\n",
    "\n",
    "absolute_path = \"/home/samuele/HPA/TrainImages/\"\n",
    "\n",
    "onlyfiles = [f for f in listdir(absolute_path) if isfile(join(absolute_path, f))]\n",
    "\n",
    "def return_unique_codes(onlyfiles):\n",
    "    codelist = []\n",
    "    for item in onlyfiles:\n",
    "        item = item.replace(\"_red.png\", \"\")\n",
    "        item = item.replace(\"_blue.png\", \"\")\n",
    "        item = item.replace(\"_yellow.png\", \"\")\n",
    "        item = item.replace(\"_green.png\", \"\")\n",
    "        codelist.append(item)\n",
    "    codelist = list(dict.fromkeys(codelist))\n",
    "    return codelist\n",
    "\n",
    "item_list = return_unique_codes(onlyfiles)\n",
    "\n"
   ]
  },
  {
   "cell_type": "code",
   "execution_count": 19,
   "id": "amino-vietnam",
   "metadata": {},
   "outputs": [],
   "source": [
    "for item in item_list:\n",
    "    blue = cv2.imread(absolute_path + item + \"_blue.png\",cv2.IMREAD_UNCHANGED)\n",
    "    yellow = cv2.imread(absolute_path + item + \"_yellow.png\",cv2.IMREAD_UNCHANGED)\n",
    "    red = cv2.imread(absolute_path + item + \"_red.png\",cv2.IMREAD_UNCHANGED)\n",
    "    image = cv2.merge((blue,red,yellow))\n",
    "    cv2.imwrite(absolute_path + \"Labels/Images/\" + item + \"_merged.png\", image)"
   ]
  },
  {
   "cell_type": "code",
   "execution_count": 3,
   "id": "hindu-booking",
   "metadata": {},
   "outputs": [
    {
     "data": {
      "text/plain": [
       "['0e498bec-8155-4f31-9a23-8ebc5efe9dd7_red.png',\n",
       " '0cd887e1-bc16-4884-a453-4b210ada725c_yellow.png',\n",
       " '0c57f7f4-c9b9-4824-aa0e-c98bd8860434_green.png',\n",
       " '0a12663b-71ff-49e2-9fd9-b9a1bba5a9b4_red.png',\n",
       " '0e185461-0a8d-4b64-8d7d-a1dcec3b1412_red.png',\n",
       " '0ec42e43-bb66-41a0-bd95-d143d10ca78a_yellow.png',\n",
       " '0f0b6d5d-642d-4d63-97ee-dcf4b2a9203e_yellow.png',\n",
       " '0ea01e42-dee2-46d3-b189-930ff2ac9841_blue.png',\n",
       " '0c57f7f4-c9b9-4824-aa0e-c98bd8860434_yellow.png',\n",
       " '0ea01e42-dee2-46d3-b189-930ff2ac9841_red.png',\n",
       " '0e498bec-8155-4f31-9a23-8ebc5efe9dd7_green.png',\n",
       " '0ec42e43-bb66-41a0-bd95-d143d10ca78a_blue.png',\n",
       " '0a75821b-048f-4db2-a061-3c723008c3cf_red.png',\n",
       " '0e185461-0a8d-4b64-8d7d-a1dcec3b1412_blue.png',\n",
       " '00c9a1c9-2f06-476f-8b0d-6d01032874a2_red.png',\n",
       " '0cefc8d5-7ded-4de4-ba97-11b0b4a080b0_yellow.png',\n",
       " '0f0b6d5d-642d-4d63-97ee-dcf4b2a9203e_red.png',\n",
       " '0cd887e1-bc16-4884-a453-4b210ada725c_blue.png',\n",
       " '0e185461-0a8d-4b64-8d7d-a1dcec3b1412_green.png',\n",
       " '0cd887e1-bc16-4884-a453-4b210ada725c_green.png',\n",
       " '0c693c0d-1395-4d88-af7d-1368fe9f8437_red.png',\n",
       " '0f0b6d5d-642d-4d63-97ee-dcf4b2a9203e_green.png',\n",
       " '0eeb2555-a764-438e-bf11-916ef676dee7_blue.png',\n",
       " '0ec42e43-bb66-41a0-bd95-d143d10ca78a_green.png',\n",
       " '0c0404a0-9eff-48d3-a853-fc7a076258e4_yellow.png',\n",
       " '0cd887e1-bc16-4884-a453-4b210ada725c_red.png',\n",
       " '0c2ea2b7-d0a0-4a14-9c70-e0428db1c298_blue.png',\n",
       " '0eeb2555-a764-438e-bf11-916ef676dee7_red.png',\n",
       " '0c2ea2b7-d0a0-4a14-9c70-e0428db1c298_red.png',\n",
       " '0a12663b-71ff-49e2-9fd9-b9a1bba5a9b4_blue.png',\n",
       " '0ea01e42-dee2-46d3-b189-930ff2ac9841_yellow.png',\n",
       " '1a2a0cde-a1bc-4b71-81a1-459940468008_blue.png',\n",
       " '0c2ea2b7-d0a0-4a14-9c70-e0428db1c298_green.png',\n",
       " '0d775004-c453-4d03-bdc9-36661a64cbbd_green.png',\n",
       " '0f0e2a27-5a09-4965-8912-388d465eb994_yellow.png',\n",
       " '0c2ea2b7-d0a0-4a14-9c70-e0428db1c298_yellow.png',\n",
       " '0e498bec-8155-4f31-9a23-8ebc5efe9dd7_blue.png',\n",
       " '0c57f7f4-c9b9-4824-aa0e-c98bd8860434_red.png',\n",
       " '0d775004-c453-4d03-bdc9-36661a64cbbd_red.png',\n",
       " '0f0e2a27-5a09-4965-8912-388d465eb994_red.png',\n",
       " '0c693c0d-1395-4d88-af7d-1368fe9f8437_green.png',\n",
       " '0cefc8d5-7ded-4de4-ba97-11b0b4a080b0_red.png',\n",
       " '1a2a0cde-a1bc-4b71-81a1-459940468008_green.png',\n",
       " '0a12663b-71ff-49e2-9fd9-b9a1bba5a9b4_yellow.png',\n",
       " '0cefc8d5-7ded-4de4-ba97-11b0b4a080b0_green.png',\n",
       " '0eeb2555-a764-438e-bf11-916ef676dee7_yellow.png',\n",
       " '0c0404a0-9eff-48d3-a853-fc7a076258e4_blue.png',\n",
       " '00c9a1c9-2f06-476f-8b0d-6d01032874a2_green.png',\n",
       " '0f0e2a27-5a09-4965-8912-388d465eb994_green.png',\n",
       " '1a2a0cde-a1bc-4b71-81a1-459940468008_red.png',\n",
       " '0e9eebd0-f151-4376-88ee-1721fbb49089_green.png',\n",
       " '0ea01e42-dee2-46d3-b189-930ff2ac9841_green.png',\n",
       " '0c0404a0-9eff-48d3-a853-fc7a076258e4_red.png',\n",
       " '0d775004-c453-4d03-bdc9-36661a64cbbd_yellow.png',\n",
       " '0e498bec-8155-4f31-9a23-8ebc5efe9dd7_yellow.png',\n",
       " '0ec42e43-bb66-41a0-bd95-d143d10ca78a_red.png',\n",
       " '0a75821b-048f-4db2-a061-3c723008c3cf_green.png',\n",
       " '00c9a1c9-2f06-476f-8b0d-6d01032874a2_yellow.png',\n",
       " '0bf0b707-99a4-4561-93fe-6c0ea0cfecf8_green.png',\n",
       " '0c693c0d-1395-4d88-af7d-1368fe9f8437_yellow.png',\n",
       " '0e9eebd0-f151-4376-88ee-1721fbb49089_blue.png',\n",
       " '0d775004-c453-4d03-bdc9-36661a64cbbd_blue.png',\n",
       " '00c9a1c9-2f06-476f-8b0d-6d01032874a2_blue.png',\n",
       " '0a12663b-71ff-49e2-9fd9-b9a1bba5a9b4_green.png',\n",
       " '0c693c0d-1395-4d88-af7d-1368fe9f8437_blue.png',\n",
       " '0c0404a0-9eff-48d3-a853-fc7a076258e4_green.png',\n",
       " '0f0e2a27-5a09-4965-8912-388d465eb994_blue.png',\n",
       " '0e185461-0a8d-4b64-8d7d-a1dcec3b1412_yellow.png',\n",
       " '0f0b6d5d-642d-4d63-97ee-dcf4b2a9203e_blue.png',\n",
       " '0c57f7f4-c9b9-4824-aa0e-c98bd8860434_blue.png',\n",
       " '0bf0b707-99a4-4561-93fe-6c0ea0cfecf8_yellow.png',\n",
       " '0e9eebd0-f151-4376-88ee-1721fbb49089_yellow.png',\n",
       " '0a75821b-048f-4db2-a061-3c723008c3cf_blue.png',\n",
       " '1a2a0cde-a1bc-4b71-81a1-459940468008_yellow.png',\n",
       " '0a75821b-048f-4db2-a061-3c723008c3cf_yellow.png',\n",
       " '0cefc8d5-7ded-4de4-ba97-11b0b4a080b0_blue.png',\n",
       " '0bf0b707-99a4-4561-93fe-6c0ea0cfecf8_blue.png',\n",
       " '0eeb2555-a764-438e-bf11-916ef676dee7_green.png',\n",
       " '0bf0b707-99a4-4561-93fe-6c0ea0cfecf8_red.png',\n",
       " '0e9eebd0-f151-4376-88ee-1721fbb49089_red.png']"
      ]
     },
     "execution_count": 3,
     "metadata": {},
     "output_type": "execute_result"
    }
   ],
   "source": [
    "onlyfiles"
   ]
  },
  {
   "cell_type": "code",
   "execution_count": 65,
   "id": "anticipated-princess",
   "metadata": {},
   "outputs": [
    {
     "data": {
      "text/plain": [
       "['0e498bec-8155-4f31-9a23-8ebc5efe9dd7',\n",
       " '0cd887e1-bc16-4884-a453-4b210ada725c',\n",
       " '0c57f7f4-c9b9-4824-aa0e-c98bd8860434',\n",
       " '0a12663b-71ff-49e2-9fd9-b9a1bba5a9b4',\n",
       " '0e185461-0a8d-4b64-8d7d-a1dcec3b1412',\n",
       " '0ec42e43-bb66-41a0-bd95-d143d10ca78a',\n",
       " '0f0b6d5d-642d-4d63-97ee-dcf4b2a9203e',\n",
       " '0ea01e42-dee2-46d3-b189-930ff2ac9841',\n",
       " '0a75821b-048f-4db2-a061-3c723008c3cf',\n",
       " '00c9a1c9-2f06-476f-8b0d-6d01032874a2',\n",
       " '0cefc8d5-7ded-4de4-ba97-11b0b4a080b0',\n",
       " '0c693c0d-1395-4d88-af7d-1368fe9f8437',\n",
       " '0eeb2555-a764-438e-bf11-916ef676dee7',\n",
       " '0c0404a0-9eff-48d3-a853-fc7a076258e4',\n",
       " '0c2ea2b7-d0a0-4a14-9c70-e0428db1c298',\n",
       " '1a2a0cde-a1bc-4b71-81a1-459940468008',\n",
       " '0d775004-c453-4d03-bdc9-36661a64cbbd',\n",
       " '0f0e2a27-5a09-4965-8912-388d465eb994',\n",
       " '0e9eebd0-f151-4376-88ee-1721fbb49089',\n",
       " '0bf0b707-99a4-4561-93fe-6c0ea0cfecf8']"
      ]
     },
     "execution_count": 65,
     "metadata": {},
     "output_type": "execute_result"
    }
   ],
   "source": [
    "return_unique_codes(onlyfiles)"
   ]
  },
  {
   "cell_type": "code",
   "execution_count": null,
   "id": "deluxe-concentrate",
   "metadata": {},
   "outputs": [],
   "source": []
  }
 ],
 "metadata": {
  "kernelspec": {
   "display_name": "Python 3",
   "language": "python",
   "name": "python3"
  },
  "language_info": {
   "codemirror_mode": {
    "name": "ipython",
    "version": 3
   },
   "file_extension": ".py",
   "mimetype": "text/x-python",
   "name": "python",
   "nbconvert_exporter": "python",
   "pygments_lexer": "ipython3",
   "version": "3.8.3"
  }
 },
 "nbformat": 4,
 "nbformat_minor": 5
}
